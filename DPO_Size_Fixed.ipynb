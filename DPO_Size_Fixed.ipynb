{
 "cells": [
  {
   "cell_type": "code",
   "execution_count": null,
   "id": "2a9eeadb-87b6-4779-ae6a-73a7c34edff2",
   "metadata": {},
   "outputs": [],
   "source": [
    "include(\"utilities.jl\");"
   ]
  },
  {
   "cell_type": "code",
   "execution_count": null,
   "id": "4ebc74bb-f355-4d89-95cf-be1cd21b91c8",
   "metadata": {
    "tags": []
   },
   "outputs": [],
   "source": [
    "# Mask which defines the observations that can be made\n",
    "V = [1 1 1; 1 0 1; 1 1 1];"
   ]
  },
  {
   "cell_type": "code",
   "execution_count": null,
   "id": "55c6d944-f7fc-45e0-a835-66d1f0e31c2c",
   "metadata": {},
   "outputs": [],
   "source": [
    "# Specify for which γ, how many experiments are done; also specify the size\n",
    "k = 10^3;\n",
    "steps = 100; \n",
    "n_min = 1;\n",
    "n_max = 30;  \n",
    "n_averages = n_max-n_min+1;\n",
    "sidelength = 5\n",
    "w = sidelength;\n",
    "h = sidelength;\n",
    "ε = 3*10^-5;\n",
    "γRange = range(1-k*ε,1-ε,length=steps);"
   ]
  },
  {
   "cell_type": "code",
   "execution_count": null,
   "id": "50daa309-b251-465c-a4f7-7e6b74328690",
   "metadata": {},
   "outputs": [],
   "source": [
    "# Read mazes that should be solved\n",
    "mazes = [zeros(2*sidelength+1, 2*sidelength+1) for j in 1:n_averages];\n",
    "\n",
    "test = readdlm(\"mazes/mazes$sidelength.csv\", ',', Float64)\n",
    "test = reshape(test, 100, 2*sidelength+1, 2*sidelength+1)\n",
    "for j in 1:n_averages\n",
    "    mazes[j] = test[n_min-1+j,:,:]\n",
    "end"
   ]
  },
  {
   "cell_type": "code",
   "execution_count": null,
   "id": "4cf157b2-b5b2-4303-b1e5-85ef99ea2143",
   "metadata": {},
   "outputs": [],
   "source": [
    "# Allocate space for storing the times and rewards\n",
    "timesDPO = zeros(length(γRange), n_averages);\n",
    "rewardsDPO = zeros(length(γRange), n_averages);"
   ]
  },
  {
   "cell_type": "code",
   "execution_count": null,
   "id": "79435a48-f782-473d-ab82-bd732f747754",
   "metadata": {},
   "outputs": [],
   "source": [
    "@elapsed for j in 1:n_averages\n",
    "    M = mazes[j];\n",
    "    states = listOfStates(M);\n",
    "    goal = rand(states);\n",
    "    α = transitionKernel(M,A,goal);\n",
    "    β = observationKernel(M,V);\n",
    "    r = instReward(M,A,goal);\n",
    "    μ = initialDistribution(M);\n",
    "    (nO, nS) = size(β)\n",
    "    nA = 4\n",
    "    statusDPO = [];\n",
    "    for i in 1:length(γRange)\n",
    "        γ = γRange[i]\n",
    "        # DPO\n",
    "        obj(θ) = - RExact(softmaxPolicy(θ, nA, nO), α, β, γ, μ, r);\n",
    "        solutionDPO = optimize(obj, zeros(nA*nO), LBFGS(), Optim.Options(g_tol=1e-3))\n",
    "        rewardsDPO[i,j] = - Optim.minimum(solutionDPO)\n",
    "        timesDPO[i,j] = Optim.time_run(solutionDPO)\n",
    "        statusDPO = vcat(statusDPO, Optim.converged(solutionDPO))\n",
    "    end\n",
    "    index = j+n_min-1\n",
    "    writedlm(\"data/DPOSizeFixedRewards$index.csv\", rewardsDPO[:,j], ',')\n",
    "    writedlm(\"data/DPOSizeFixedTimes$index.csv\", timesDPO[:,j], ',')\n",
    "    writedlm(\"data/DPOSizeFixedStatus$index.csv\", statusDPO, ',')\n",
    "end"
   ]
  }
 ],
 "metadata": {
  "kernelspec": {
   "display_name": "Julia 1.7.0",
   "language": "julia",
   "name": "julia-1.7"
  },
  "language_info": {
   "file_extension": ".jl",
   "mimetype": "application/julia",
   "name": "julia",
   "version": "1.7.0"
  }
 },
 "nbformat": 4,
 "nbformat_minor": 5
}
