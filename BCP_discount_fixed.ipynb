{
 "cells": [
  {
   "cell_type": "code",
   "execution_count": 1,
   "id": "751cc292-c668-4a7c-a442-4f7224b7f98d",
   "metadata": {},
   "outputs": [],
   "source": [
    "# Include all the utilities\n",
    "include(\"utilities.jl\");"
   ]
  },
  {
   "cell_type": "code",
   "execution_count": 19,
   "id": "464bffb9-66fb-4a4c-ad36-48c27addec50",
   "metadata": {},
   "outputs": [],
   "source": [
    "# Read mazes that should be solved\n",
    "max_size = 10\n",
    "n_averages = 100\n",
    "\n",
    "mazes = [zeros(2*i+1, 2*i+1) for i in 1:max_size, j in 1:n_averages];\n",
    "\n",
    "for i in 1:max_size\n",
    "    test = readdlm(\"mazes/mazes$i.csv\", ',', Float64)\n",
    "    test = reshape(test, 100, 2*i+1, 2*i+1)\n",
    "    for j in 1:n_averages\n",
    "        mazes[i,j] = test[j,:,:]\n",
    "    end\n",
    "end"
   ]
  },
  {
   "cell_type": "code",
   "execution_count": 20,
   "id": "64b9fd3d-3df4-4d93-832a-81249142f462",
   "metadata": {},
   "outputs": [],
   "source": [
    "# Allocate memory for the computations with fixed discount\n",
    "timesBCP = zeros(max_size, n_averages);\n",
    "rewardsBCP = zeros(max_size, n_averages);\n",
    "statusBCP = [];"
   ]
  },
  {
   "cell_type": "code",
   "execution_count": 21,
   "id": "c2bf6593-8ed2-4e03-afbf-a09b26711dab",
   "metadata": {},
   "outputs": [],
   "source": [
    "# Define the visibility / observability mask\n",
    "V = [1 1 1; 1 0 1; 1 1 1];"
   ]
  },
  {
   "cell_type": "code",
   "execution_count": 22,
   "id": "f81f67f1-e775-4f8e-b7f9-3a2020f77ae8",
   "metadata": {},
   "outputs": [],
   "source": [
    "# Fix discount factor\n",
    "γ = 0.9999;"
   ]
  },
  {
   "cell_type": "code",
   "execution_count": 23,
   "id": "bc568657-f873-43c3-b77f-896416908368",
   "metadata": {},
   "outputs": [
    {
     "name": "stdout",
     "output_type": "stream",
     "text": [
      "BCP time for size 1: 0.004149513244628906\n",
      "BCP reward for size 1: 0.9999999999999999\n",
      "BCP time for size 2: 0.012756757736206055\n",
      "BCP reward for size 2: 2.144767199619089\n",
      "BCP time for size 3: 0.030941081047058106\n",
      "BCP reward for size 3: 2.444624776910715\n",
      "BCP time for size 4: 0.18306411266326905\n",
      "BCP reward for size 4: 2.0875416817698307\n",
      "BCP time for size 5: 0.5015405488014221\n",
      "BCP reward for size 5: 1.2728697003485945\n",
      "BCP time for size 6: 1.8053146076202393\n",
      "BCP reward for size 6: 0.5399709252046625\n",
      "BCP time for size 7: 2.136158497333527\n",
      "BCP reward for size 7: 2.0923987838754003\n",
      "BCP time for size 8: 3.2971184039115906\n",
      "BCP reward for size 8: 0.3839107297748411\n",
      "BCP time for size 9: 5.861895041465759\n",
      "BCP reward for size 9: 0.314351113039053\n",
      "BCP time for size 10: 7.07161171913147\n",
      "BCP reward for size 10: 0.27354067202295673\n"
     ]
    },
    {
     "data": {
      "text/plain": [
       "2139.700251571"
      ]
     },
     "execution_count": 23,
     "metadata": {},
     "output_type": "execute_result"
    }
   ],
   "source": [
    "# Do the computations\n",
    "@elapsed for i in 1:max_size\n",
    "    for j in 1:n_averages\n",
    "        M = mazes[i,j];\n",
    "        states = listOfStates(M);\n",
    "        goal = rand(states);\n",
    "        α = transitionKernel(M,A,goal);\n",
    "        β = observationKernel(M,V);\n",
    "        r = instReward(M,A,goal);\n",
    "        μ = initialDistribution(M);\n",
    "        # Evaluate BCP\n",
    "        πBCP, modelBCP = BCP(α, β, r, μ, γ, 0)\n",
    "        rewardsBCP[i,j] = RExact(πBCP, α, β, γ, μ, r)\n",
    "        timesBCP[i,j] = solve_time(modelBCP)\n",
    "        statusBCP = vcat(statusBCP, raw_status(modelBCP))\n",
    "    end\n",
    "    println(\"BCP time for size $i: \", sum(timesBCP[i,:]) / n_averages)\n",
    "    println(\"BCP reward for size $i: \", sum(rewardsBCP[i,:]) / n_averages)\n",
    "end"
   ]
  },
  {
   "cell_type": "code",
   "execution_count": 24,
   "id": "b6d0a08f-902e-4b1a-8998-0d3d57842c54",
   "metadata": {},
   "outputs": [],
   "source": [
    "writedlm(\"data/BCPDiscountFixedRewardsSmall.csv\", rewardsBCP, ',')\n",
    "writedlm(\"data/BCPDiscountFixedTimesSmall.csv\", timesBCP, ',')\n",
    "writedlm(\"data/BCPDiscountFixedStatusSmall.csv\", statusBCP, ',')"
   ]
  }
 ],
 "metadata": {
  "kernelspec": {
   "display_name": "Julia 1.7.0",
   "language": "julia",
   "name": "julia-1.7"
  },
  "language_info": {
   "file_extension": ".jl",
   "mimetype": "application/julia",
   "name": "julia",
   "version": "1.7.0"
  }
 },
 "nbformat": 4,
 "nbformat_minor": 5
}
