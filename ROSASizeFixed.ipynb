{
 "cells": [
  {
   "cell_type": "code",
   "execution_count": 1,
   "id": "2a9eeadb-87b6-4779-ae6a-73a7c34edff2",
   "metadata": {},
   "outputs": [],
   "source": [
    "include(\"utilities.jl\");"
   ]
  },
  {
   "cell_type": "code",
   "execution_count": 2,
   "id": "4ebc74bb-f355-4d89-95cf-be1cd21b91c8",
   "metadata": {},
   "outputs": [],
   "source": [
    "# Mask which defines the observations that can be made\n",
    "V = [1 1 1; 1 0 1; 1 1 1];"
   ]
  },
  {
   "cell_type": "code",
   "execution_count": 5,
   "id": "55c6d944-f7fc-45e0-a835-66d1f0e31c2c",
   "metadata": {},
   "outputs": [],
   "source": [
    "# Specify for which γ, how many experiments are done; also specify the size\n",
    "k = 10^3;\n",
    "n_averages = 100;\n",
    "#γRange = collect(1/k:1/k:(1-1/k));\n",
    "sidelength = 5\n",
    "w = sidelength;\n",
    "h = sidelength;\n",
    "ε = 3*10^-5;\n",
    "γRange = [1 - ε*k + j*ε for j in 1:(k-1)];"
   ]
  },
  {
   "cell_type": "code",
   "execution_count": 6,
   "id": "50daa309-b251-465c-a4f7-7e6b74328690",
   "metadata": {},
   "outputs": [],
   "source": [
    "# Read mazes that should be solved\n",
    "mazes = [zeros(2*sidelength+1, 2*sidelength+1) for j in 1:n_averages];\n",
    "\n",
    "test = readdlm(\"mazes/mazes$sidelength.csv\", ',', Float64)\n",
    "test = reshape(test, 100, 2*sidelength+1, 2*sidelength+1)\n",
    "for j in 1:n_averages\n",
    "    mazes[j] = test[j,:,:]\n",
    "end"
   ]
  },
  {
   "cell_type": "code",
   "execution_count": 7,
   "id": "4cf157b2-b5b2-4303-b1e5-85ef99ea2143",
   "metadata": {},
   "outputs": [],
   "source": [
    "# Allocate memory for the computations with fixed discount\n",
    "timesROSA = zeros(length(γRange), n_averages);\n",
    "rewardsROSA = zeros(length(γRange), n_averages);\n",
    "statusROSA = [];"
   ]
  },
  {
   "cell_type": "code",
   "execution_count": 8,
   "id": "79435a48-f782-473d-ab82-bd732f747754",
   "metadata": {},
   "outputs": [
    {
     "name": "stdout",
     "output_type": "stream",
     "text": [
      "\n",
      "******************************************************************************\n",
      "This program contains Ipopt, a library for large-scale nonlinear optimization.\n",
      " Ipopt is released as open source code under the Eclipse Public License (EPL).\n",
      "         For more information visit https://github.com/coin-or/Ipopt\n",
      "******************************************************************************\n",
      "\n"
     ]
    },
    {
     "data": {
      "text/plain": [
       "73.854297661"
      ]
     },
     "execution_count": 8,
     "metadata": {},
     "output_type": "execute_result"
    }
   ],
   "source": [
    "@elapsed for j in 1:n_averages\n",
    "    M = mazes[j];\n",
    "    states = listOfStates(M);\n",
    "    goal = rand(states);\n",
    "    α = transitionKernel(M,A,goal);\n",
    "    β = observationKernel(M,V);\n",
    "    r = instReward(M,A,goal);\n",
    "    μ = initialDistribution(M);\n",
    "    for i in 1:length(γRange)\n",
    "        γ = γRange[i]\n",
    "        # DPO\n",
    "        ηROSA, modelROSA = ROSA(α, β, r, μ, γ, 0)\n",
    "        πROSA = observationPolicy(ηROSA, β)\n",
    "        rewardsROSA[i,j] = RExact(πROSA, α, β, γ, μ, r)\n",
    "        timesROSA[i,j] = solve_time(modelROSA)\n",
    "        statusROSA = vcat(statusROSA, raw_status(modelROSA))\n",
    "    end\n",
    "end"
   ]
  },
  {
   "cell_type": "code",
   "execution_count": 27,
   "id": "32c871fb-b648-4c3a-9ffc-2cfd633478ed",
   "metadata": {},
   "outputs": [],
   "source": [
    "writedlm(\"data/ROSASizeFixedRewards.csv\", rewardsROSA, ',')\n",
    "writedlm(\"data/ROSASizeFixedTimes.csv\", timesROSA, ',')\n",
    "writedlm(\"data/ROSASizeFixedStatus.csv\", statusROSA, ',')"
   ]
  }
 ],
 "metadata": {
  "kernelspec": {
   "display_name": "Julia 1.7.0",
   "language": "julia",
   "name": "julia-1.7"
  },
  "language_info": {
   "file_extension": ".jl",
   "mimetype": "application/julia",
   "name": "julia",
   "version": "1.7.0"
  }
 },
 "nbformat": 4,
 "nbformat_minor": 5
}
