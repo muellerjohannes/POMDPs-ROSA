{
 "cells": [
  {
   "cell_type": "code",
   "execution_count": 1,
   "id": "751cc292-c668-4a7c-a442-4f7224b7f98d",
   "metadata": {},
   "outputs": [],
   "source": [
    "# Include all the utilities\n",
    "include(\"utilities.jl\");"
   ]
  },
  {
   "cell_type": "code",
   "execution_count": 2,
   "id": "464bffb9-66fb-4a4c-ad36-48c27addec50",
   "metadata": {},
   "outputs": [],
   "source": [
    "# Read mazes that should be solved\n",
    "max_size = 10\n",
    "n_averages = 100\n",
    "\n",
    "mazes = [zeros(2*i+1, 2*i+1) for i in 1:max_size, j in 1:n_averages];\n",
    "\n",
    "for i in 1:max_size\n",
    "    test = readdlm(\"mazes/mazes$i.csv\", ',', Float64)\n",
    "    test = reshape(test, 100, 2*i+1, 2*i+1)\n",
    "    for j in 1:n_averages\n",
    "        mazes[i,j] = test[j,:,:]\n",
    "    end\n",
    "end"
   ]
  },
  {
   "cell_type": "code",
   "execution_count": 3,
   "id": "64b9fd3d-3df4-4d93-832a-81249142f462",
   "metadata": {},
   "outputs": [],
   "source": [
    "# Allocate memory for the computations with fixed discount\n",
    "timesROSA = zeros(max_size, n_averages);\n",
    "rewardsROSA = zeros(max_size, n_averages);\n",
    "statusROSA = [];"
   ]
  },
  {
   "cell_type": "code",
   "execution_count": 4,
   "id": "c2bf6593-8ed2-4e03-afbf-a09b26711dab",
   "metadata": {},
   "outputs": [],
   "source": [
    "# Define the visibility / observability mask\n",
    "V = [1 1 1; 1 0 1; 1 1 1];implementationimplementation"
   ]
  },
  {
   "cell_type": "code",
   "execution_count": 5,
   "id": "f81f67f1-e775-4f8e-b7f9-3a2020f77ae8",
   "metadata": {},
   "outputs": [],
   "source": [
    "# Fix discount factor\n",
    "γ = 0.9999;"
   ]
  },
  {
   "cell_type": "code",
   "execution_count": 7,
   "id": "bc568657-f873-43c3-b77f-896416908368",
   "metadata": {},
   "outputs": [
    {
     "name": "stdout",
     "output_type": "stream",
     "text": [
      "ROSA time for size 1: 0.0033232855796813967\n",
      "ROSA reward for size 1: 0.9999999999999999\n",
      "ROSA time for size 2: 0.005515432357788086\n",
      "ROSA reward for size 2: 2.128180734401456\n",
      "ROSA time for size 3: 0.010333473682403565\n",
      "ROSA reward for size 3: 2.5829818468288837\n",
      "ROSA time for size 4: 0.018900439739227295\n",
      "ROSA reward for size 4: 1.9728362907807757\n",
      "ROSA time for size 5: 0.03471754789352417\n",
      "ROSA reward for size 5: 1.5469674832441018\n",
      "ROSA time for size 6: 0.061869676113128665\n",
      "ROSA reward for size 6: 1.0499296650526062\n",
      "ROSA time for size 7: 0.09794137239456177\n",
      "ROSA reward for size 7: 0.8449706331635989\n",
      "ROSA time for size 8: 0.1497805881500244\n",
      "ROSA reward for size 8: 0.5791777066683114\n",
      "ROSA time for size 9: 0.2162007713317871\n",
      "ROSA reward for size 9: 0.5202625830921435\n",
      "ROSA time for size 10: 0.30965180158615113\n",
      "ROSA reward for size 10: 0.45805779200483343\n"
     ]
    },
    {
     "data": {
      "text/plain": [
       "119.397367823"
      ]
     },
     "execution_count": 7,
     "metadata": {},
     "output_type": "execute_result"
    }
   ],
   "source": [
    "# Do the computations\n",
    "@elapsed for i in 1:max_size\n",
    "    for j in 1:n_averages\n",
    "        M = mazes[i,j];\n",
    "        states = listOfStates(M);\n",
    "        goal = rand(states);\n",
    "        α = transitionKernel(M,A,goal);\n",
    "        β = observationKernel(M,V);\n",
    "        r = instReward(M,A,goal);\n",
    "        μ = initialDistribution(M);\n",
    "        # Evaluate ROSA\n",
    "        ηROSA, modelROSA = ROSA(α, β, r, μ, γ, 0)\n",
    "        πROSA = observationPolicy(ηROSA, β)\n",
    "        rewardsROSA[i,j] = RExact(πROSA, α, β, γ, μ, r)\n",
    "        timesROSA[i,j] = solve_time(modelROSA)\n",
    "        statusROSA = vcat(statusROSA, raw_status(modelROSA))\n",
    "    end\n",
    "    println(\"ROSA time for size $i: \", sum(timesROSA[i,:]) / n_averages)\n",
    "    println(\"ROSA reward for size $i: \", sum(rewardsROSA[i,:]) / n_averages)\n",
    "end"
   ]
  },
  {
   "cell_type": "code",
   "execution_count": 48,
   "id": "d5db5902-0170-44b3-99e3-cb2d13f00faa",
   "metadata": {},
   "outputs": [],
   "source": [
    "writedlm(\"data/ROSADiscountFixedRewardsSmall.csv\", rewardsROSA, ',')\n",
    "writedlm(\"data/ROSADiscountFixedTimesSmall.csv\", timesROSA, ',')\n",
    "writedlm(\"data/ROSADiscountFixedStatusSmall.csv\", statusROSA, ',')"
   ]
  }
 ],
 "metadata": {
  "kernelspec": {
   "display_name": "Julia 1.7.0",
   "language": "julia",
   "name": "julia-1.7"
  },
  "language_info": {
   "file_extension": ".jl",
   "mimetype": "application/julia",
   "name": "julia",
   "version": "1.7.0"
  }
 },
 "nbformat": 4,
 "nbformat_minor": 5
}
