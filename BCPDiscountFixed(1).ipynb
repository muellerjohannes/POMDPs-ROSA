{
 "cells": [
  {
   "cell_type": "code",
   "execution_count": null,
   "id": "751cc292-c668-4a7c-a442-4f7224b7f98d",
   "metadata": {},
   "outputs": [],
   "source": [
    "# Include all the utilities\n",
    "include(\"utilities.jl\");"
   ]
  },
  {
   "cell_type": "code",
   "execution_count": null,
   "id": "464bffb9-66fb-4a4c-ad36-48c27addec50",
   "metadata": {},
   "outputs": [],
   "source": [
    "# Read mazes that should be solved\n",
    "max_size = 10\n",
    "n_averages = 100\n",
    "\n",
    "mazes = [zeros(2*i+1, 2*i+1) for i in 1:max_size, j in 1:n_averages];\n",
    "\n",
    "for i in 1:max_size\n",
    "    test = readdlm(\"mazes/mazes$i.csv\", ',', Float64)\n",
    "    test = reshape(test, 100, 2*i+1, 2*i+1)\n",
    "    for j in 1:n_averages\n",
    "        mazes[i,j] = test[j,:,:]\n",
    "    end\n",
    "end"
   ]
  },
  {
   "cell_type": "code",
   "execution_count": null,
   "id": "64b9fd3d-3df4-4d93-832a-81249142f462",
   "metadata": {},
   "outputs": [],
   "source": [
    "# Allocate memory for the computations with fixed discount\n",
    "timesBCP = zeros(max_size, n_averages);\n",
    "rewardsBCP = zeros(max_size, n_averages);\n",
    "statusBCP = [];"
   ]
  },
  {
   "cell_type": "code",
   "execution_count": null,
   "id": "c2bf6593-8ed2-4e03-afbf-a09b26711dab",
   "metadata": {},
   "outputs": [],
   "source": [
    "# Define the visibility / observability mask\n",
    "V = [1 1 1; 1 0 1; 1 1 1];"
   ]
  },
  {
   "cell_type": "code",
   "execution_count": null,
   "id": "f81f67f1-e775-4f8e-b7f9-3a2020f77ae8",
   "metadata": {},
   "outputs": [],
   "source": [
    "# Fix discount factor\n",
    "γ = 0.9999;"
   ]
  },
  {
   "cell_type": "code",
   "execution_count": null,
   "id": "bc568657-f873-43c3-b77f-896416908368",
   "metadata": {},
   "outputs": [],
   "source": [
    "# Do the computations\n",
    "@elapsed for i in 1:max_size\n",
    "    for j in 1:n_averages\n",
    "        M = mazes[i,j];\n",
    "        states = listOfStates(M);\n",
    "        goal = rand(states);\n",
    "        α = transitionKernel(M,A,goal);\n",
    "        β = observationKernel(M,V);\n",
    "        r = instReward(M,A,goal);\n",
    "        μ = initialDistribution(M);\n",
    "        # Evaluate BCP\n",
    "        πBCP, modelBCP = BCP(α, β, r, μ, γ, 0)\n",
    "        rewardsBCP[i,j] = R(πBCP, α, β, γ, μ, r)\n",
    "        timesBCP[i,j] = solve_time(modelBCP)\n",
    "        statusBCP = vcat(statusBCP, raw_status(modelBCP))\n",
    "    end\n",
    "    println(\"BCP time for size $i: \", sum(timesBCP[i,:]) / n_averages)\n",
    "    println(\"BCP reward for size $i: \", sum(rewardsBCP[i,:]) / n_averages)\n",
    "end"
   ]
  },
  {
   "cell_type": "code",
   "execution_count": null,
   "id": "b6d0a08f-902e-4b1a-8998-0d3d57842c54",
   "metadata": {},
   "outputs": [],
   "source": [
    "writedlm(\"data/BCPDiscountFixedRewardsSmall.csv\", rewardsBCP, ',')\n",
    "writedlm(\"data/BCPDiscountFixedTimesSmall.csv\", timesBCP, ',')\n",
    "writedlm(\"data/BCPDiscountFixedStatusSmall.csv\", statusBCP, ',')"
   ]
  }
 ],
 "metadata": {
  "kernelspec": {
   "display_name": "Julia 1.7.0",
   "language": "julia",
   "name": "julia-1.7"
  },
  "language_info": {
   "file_extension": ".jl",
   "mimetype": "application/julia",
   "name": "julia",
   "version": "1.7.0"
  }
 },
 "nbformat": 4,
 "nbformat_minor": 5
}
