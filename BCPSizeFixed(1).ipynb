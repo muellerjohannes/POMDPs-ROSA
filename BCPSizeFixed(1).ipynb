{
 "cells": [
  {
   "cell_type": "code",
   "execution_count": null,
   "id": "2a9eeadb-87b6-4779-ae6a-73a7c34edff2",
   "metadata": {},
   "outputs": [],
   "source": [
    "include(\"utilities.jl\");"
   ]
  },
  {
   "cell_type": "code",
   "execution_count": null,
   "id": "4ebc74bb-f355-4d89-95cf-be1cd21b91c8",
   "metadata": {},
   "outputs": [],
   "source": [
    "# Mask which defines the observations that can be made\n",
    "V = [1 1 1; 1 0 1; 1 1 1];"
   ]
  },
  {
   "cell_type": "code",
   "execution_count": null,
   "id": "55c6d944-f7fc-45e0-a835-66d1f0e31c2c",
   "metadata": {},
   "outputs": [],
   "source": [
    "# Specify for which γ, how many experiments are done; also specify the size\n",
    "k = 10^3;\n",
    "n_averages = 100;\n",
    "sidelength = 5\n",
    "w = sidelength;\n",
    "h = sidelength;\n",
    "ε = 3*10^-5;\n",
    "γRange = [1 - ε*k + j*ε for j in 1:(k-1)];"
   ]
  },
  {
   "cell_type": "code",
   "execution_count": null,
   "id": "50daa309-b251-465c-a4f7-7e6b74328690",
   "metadata": {},
   "outputs": [],
   "source": [
    "# Read mazes that should be solved\n",
    "mazes = [zeros(2*sidelength+1, 2*sidelength+1) for j in 1:n_averages];\n",
    "\n",
    "test = readdlm(\"mazes/mazes$sidelength.csv\", ',', Float64)\n",
    "test = reshape(test, 100, 2*sidelength+1, 2*sidelength+1)\n",
    "for j in 1:n_averages\n",
    "    mazes[j] = test[j,:,:]\n",
    "end"
   ]
  },
  {
   "cell_type": "code",
   "execution_count": null,
   "id": "4cf157b2-b5b2-4303-b1e5-85ef99ea2143",
   "metadata": {},
   "outputs": [],
   "source": [
    "# Allocate memory for the computations with fixed discount\n",
    "timesBCP = zeros(length(γRange), n_averages);\n",
    "rewardsBCP = zeros(length(γRange), n_averages);\n",
    "statusBCP = [];"
   ]
  },
  {
   "cell_type": "code",
   "execution_count": null,
   "id": "79435a48-f782-473d-ab82-bd732f747754",
   "metadata": {},
   "outputs": [],
   "source": [
    "@elapsed for j in 1:n_averages\n",
    "    M = mazes[j];\n",
    "    states = listOfStates(M);\n",
    "    goal = rand(states);\n",
    "    α = transitionKernel(M,A,goal);\n",
    "    β = observationKernel(M,V);\n",
    "    r = instReward(M,A,goal);\n",
    "    μ = initialDistribution(M);\n",
    "    for i in 1:length(γRange)\n",
    "        γ = γRange[i]\n",
    "        # DPO\n",
    "        πBCP, modelBCP = BCP(α, β, r, μ, γ, 0)\n",
    "        rewardsBCP[i,j] = R(πBCP, α, β, γ, μ, r)\n",
    "        timesBCP[i,j] = solve_time(modelBCP)\n",
    "        statusBCP = vcat(statusBCP, raw_status(modelBCP))\n",
    "    end\n",
    "end"
   ]
  },
  {
   "cell_type": "code",
   "execution_count": null,
   "id": "ea33bca9-3781-4d9a-8ac3-b9fbe0cd104d",
   "metadata": {},
   "outputs": [],
   "source": [
    "writedlm(\"data/BCPSizeFixedRewards.csv\", rewardsBCP, ',')\n",
    "writedlm(\"data/BCPSizeFixedTimes.csv\", timesBCP, ',')\n",
    "writedlm(\"data/BCPSizeFixedStatus.csv\", statusBCP, ',')"
   ]
  }
 ],
 "metadata": {
  "kernelspec": {
   "display_name": "Julia 1.7.0",
   "language": "julia",
   "name": "julia-1.7"
  },
  "language_info": {
   "file_extension": ".jl",
   "mimetype": "application/julia",
   "name": "julia",
   "version": "1.7.0"
  }
 },
 "nbformat": 4,
 "nbformat_minor": 5
}
